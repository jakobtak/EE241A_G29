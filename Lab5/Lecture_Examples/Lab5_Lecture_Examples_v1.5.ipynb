{
 "cells": [
  {
   "cell_type": "markdown",
   "id": "f21e5722",
   "metadata": {},
   "source": [
    "##### Author: Jimin Kim (jk55@uw.edu)\n",
    "##### Version 1.5.0"
   ]
  },
  {
   "cell_type": "markdown",
   "id": "17dc8d7d",
   "metadata": {},
   "source": [
    "# LAB5: \n",
    "# WORKING WITH GRAPHS/ADVANCED DEBUGGING"
   ]
  },
  {
   "cell_type": "markdown",
   "id": "8ecb4981",
   "metadata": {},
   "source": [
    "## Part 3: Working with Graph data"
   ]
  },
  {
   "cell_type": "code",
   "execution_count": null,
   "id": "451e815d",
   "metadata": {},
   "outputs": [],
   "source": [
    "import numpy as np\n",
    "import pandas as pd\n",
    "import networkx as nx\n",
    "import matplotlib.pyplot as plt\n",
    "\n",
    "%matplotlib inline"
   ]
  },
  {
   "cell_type": "markdown",
   "id": "5782a4c1",
   "metadata": {},
   "source": [
    "### 3.1 - Loading a Graph Adjacency Matrix as Numpy Array"
   ]
  },
  {
   "cell_type": "code",
   "execution_count": null,
   "id": "afda751f",
   "metadata": {},
   "outputs": [],
   "source": [
    "# Loading an adjacency matrix saved as .xlsx using pandas\n",
    "\n",
    "directed_adj_mat = pd.read_excel('directed_sample.xlsx')\n",
    "directed_adj_mat = np.array(directed_adj_mat)\n",
    "print(directed_adj_mat)"
   ]
  },
  {
   "cell_type": "code",
   "execution_count": null,
   "id": "eecc9024",
   "metadata": {},
   "outputs": [],
   "source": [
    "# Loading an adjacency matrix saved as .csv using pandas\n",
    "\n",
    "directed_adj_mat = pd.read_csv('directed_sample.csv')\n",
    "directed_adj_mat = np.array(directed_adj_mat)\n",
    "print(directed_adj_mat)"
   ]
  },
  {
   "cell_type": "code",
   "execution_count": null,
   "id": "743ee94a",
   "metadata": {},
   "outputs": [],
   "source": [
    "# Loading an adjacency matrix saved as .npy using numpy\n",
    "\n",
    "directed_adj_mat = np.load('directed_sample.npy')\n",
    "print(directed_adj_mat)"
   ]
  },
  {
   "cell_type": "markdown",
   "id": "7bda5ce4",
   "metadata": {},
   "source": [
    "### 3.2 - Visualizing Adjacency Matrix"
   ]
  },
  {
   "cell_type": "code",
   "execution_count": null,
   "id": "79da1c20",
   "metadata": {},
   "outputs": [],
   "source": [
    "# Visualizing Adjacency Matrix using matplotlib pcolor\n",
    "\n",
    "fig = plt.figure(figsize=(7,7))                                  # Define a nenw figure, set figure size                  \n",
    "\n",
    "plt.pcolor(directed_adj_mat, cmap = 'Greys', vmin = 0, vmax = 1) # Use plt.pcolor to visualize the adjacency matrix\n",
    "plt.ylim(len(directed_adj_mat), 0)                               # Invert y-axis so that the first row starts with vertex 0\n",
    "plt.xlabel('Target Vertices', fontsize=20)                       # Set appropriate x-label\n",
    "plt.ylabel('Source Vertices', fontsize=20)                       # Set appropriate y-label\n",
    "plt.xticks(fontsize=30)                                          # Set x-ticks size\n",
    "plt.yticks(fontsize=30)                                          # Set y-ticks size\n",
    "plt.show()"
   ]
  },
  {
   "cell_type": "markdown",
   "id": "393ff2e6",
   "metadata": {},
   "source": [
    "### 3.3 - Visualizing a Graph (undirected)"
   ]
  },
  {
   "cell_type": "code",
   "execution_count": null,
   "id": "f0a27a25",
   "metadata": {},
   "outputs": [],
   "source": [
    "undirected_adj_mat_panda = pd.read_excel('undirected_sample.xlsx') # Load the adj matrix in xlsx form using pandas\n",
    "undirected_adj_mat_np = np.array(undirected_adj_mat_panda)         # Convert the panda dataframe object to numpy\n",
    "undirected_adj_mat_nx = nx.from_numpy_array(undirected_adj_mat_np) # Convert numpy array into networkX object"
   ]
  },
  {
   "cell_type": "code",
   "execution_count": null,
   "id": "c93ec657",
   "metadata": {},
   "outputs": [],
   "source": [
    "pos=nx.circular_layout(undirected_adj_mat_nx)          # Obtain positions of vertex according to circular graph layout\n",
    "\n",
    "# Use nx.draw_networkx() to plot the graph\n",
    "nx.draw_networkx(undirected_adj_mat_nx, pos, with_labels = True, node_size = 750, node_color='grey')\n",
    "\n",
    "# Use nx.get_edge_attributes() to obtain the edge weights according to adjacency matrix\n",
    "labels = nx.get_edge_attributes(undirected_adj_mat_nx,'weight')\n",
    "\n",
    "# Use nx.draw_networkx_edge_labels() to label the edges with the weights\n",
    "nx.draw_networkx_edge_labels(undirected_adj_mat_nx, pos, edge_labels=labels)\n",
    "\n",
    "plt.axis('off')\n",
    "plt.show()"
   ]
  },
  {
   "cell_type": "markdown",
   "id": "b758c274",
   "metadata": {},
   "source": [
    "### 3.4 - Visualizing a Graph (directed)"
   ]
  },
  {
   "cell_type": "code",
   "execution_count": null,
   "id": "068092f7",
   "metadata": {},
   "outputs": [],
   "source": [
    "# Load the directed graph adj matrix in xlsx form using pandas\n",
    "directed_adj_mat_panda = pd.read_excel('directed_sample.xlsx')\n",
    "\n",
    "# Convert the panda dataframe object to numpy\n",
    "directed_adj_mat_np = np.array(directed_adj_mat_panda)\n",
    "\n",
    "# Convert numpy array into directed graph networkX object\n",
    "directed_adj_mat_nx = nx.from_numpy_array(directed_adj_mat_np, create_using=nx.DiGraph()) "
   ]
  },
  {
   "cell_type": "code",
   "execution_count": null,
   "id": "eb7ad491",
   "metadata": {},
   "outputs": [],
   "source": [
    "pos=nx.circular_layout(directed_adj_mat_nx) # Obtain positions of vertex according to circular graph layout\n",
    "\n",
    "# Use nx.draw_networkx() to plot the graph\n",
    "nx.draw_networkx(directed_adj_mat_nx, pos, with_labels = True, node_size = 750, node_color='grey')\n",
    "\n",
    "# Use nx.get_edge_attributes() to obtain the edge weights according to adjacency matrix\n",
    "labels = nx.get_edge_attributes(directed_adj_mat_nx,'weight')\n",
    "\n",
    "# Use nx.draw_networkx_edge_labels() to label the edges with the weights\n",
    "nx.draw_networkx_edge_labels(directed_adj_mat_nx, pos,edge_labels=labels)\n",
    "\n",
    "plt.axis('off')\n",
    "plt.show()"
   ]
  },
  {
   "cell_type": "markdown",
   "id": "be9abdb6",
   "metadata": {},
   "source": [
    "### 3.5 - Computing graph degrees (undirected)"
   ]
  },
  {
   "cell_type": "code",
   "execution_count": null,
   "id": "a1fa7011",
   "metadata": {},
   "outputs": [],
   "source": [
    "undirected_adj_mat = pd.read_excel('undirected_sample.xlsx') # Load the adj matrix in xlsx form using pandas\n",
    "undirected_adj_mat_np = np.array(undirected_adj_mat)         # Convert the panda dataframe object to numpy"
   ]
  },
  {
   "cell_type": "code",
   "execution_count": null,
   "id": "213b5a84",
   "metadata": {},
   "outputs": [],
   "source": [
    "print(undirected_adj_mat_np) # Printing the adjacency matrix"
   ]
  },
  {
   "cell_type": "code",
   "execution_count": null,
   "id": "473765d5",
   "metadata": {},
   "outputs": [],
   "source": [
    "print(np.sum(undirected_adj_mat_np[3, :])) # Computing degree of vertex 4 via summing over columns"
   ]
  },
  {
   "cell_type": "code",
   "execution_count": null,
   "id": "dac21b34",
   "metadata": {},
   "outputs": [],
   "source": [
    "print(np.sum(undirected_adj_mat_np[:, 3])) # Computing degree of vertex 4 via summing over rows\n",
    "                                           # Notice we get the same degree since undirected graphs are Symmetric"
   ]
  },
  {
   "cell_type": "code",
   "execution_count": null,
   "id": "bb27e7fa",
   "metadata": {},
   "outputs": [],
   "source": [
    "print(np.sum(undirected_adj_mat_np, axis = 1)) # Summing over all columns return degree of all 7 vertices"
   ]
  },
  {
   "cell_type": "code",
   "execution_count": null,
   "id": "fd05a5fa",
   "metadata": {},
   "outputs": [],
   "source": [
    "print(np.sum(undirected_adj_mat_np, axis = 0)) # Summing over all rows return same values due to symmetricity"
   ]
  },
  {
   "cell_type": "markdown",
   "id": "c68255a8",
   "metadata": {},
   "source": [
    "### 3.6 - Computing graph degrees (directed)"
   ]
  },
  {
   "cell_type": "code",
   "execution_count": null,
   "id": "c6dca5df",
   "metadata": {},
   "outputs": [],
   "source": [
    "directed_adj_mat = pd.read_excel('directed_sample.xlsx') # Load the directed adj matrix in xlsx form using pandas\n",
    "directed_adj_mat_np = np.array(directed_adj_mat)         # Convert the panda dataframe object to numpy"
   ]
  },
  {
   "cell_type": "code",
   "execution_count": null,
   "id": "e6275878",
   "metadata": {},
   "outputs": [],
   "source": [
    "print(directed_adj_mat_np) # Printing the adjacency matrix"
   ]
  },
  {
   "cell_type": "code",
   "execution_count": null,
   "id": "93eac252",
   "metadata": {},
   "outputs": [],
   "source": [
    "# Summing over all numbers along the columns with respect to a single vertex gives out-degree of a vertex\n",
    "print(np.sum(directed_adj_mat_np[3, :]))"
   ]
  },
  {
   "cell_type": "code",
   "execution_count": null,
   "id": "1d2580ab",
   "metadata": {},
   "outputs": [],
   "source": [
    "# Summing over all the columns gives out-degrees of all the vertices\n",
    "print(np.sum(directed_adj_mat_np, axis = 1))"
   ]
  },
  {
   "cell_type": "code",
   "execution_count": null,
   "id": "c7fce4e9",
   "metadata": {},
   "outputs": [],
   "source": [
    "# Summing over all numbers along the rows with respect to a single vertex gives in-degree of a vertex\n",
    "print(np.sum(directed_adj_mat_np[:, 3]))"
   ]
  },
  {
   "cell_type": "code",
   "execution_count": null,
   "id": "94102e12",
   "metadata": {},
   "outputs": [],
   "source": [
    "# Summing over all the rows gives in-degrees of all the vertices\n",
    "print(np.sum(directed_adj_mat_np, axis = 0))"
   ]
  },
  {
   "cell_type": "markdown",
   "id": "78c71efe",
   "metadata": {},
   "source": [
    "### 3.7 - Removing graph edges"
   ]
  },
  {
   "cell_type": "code",
   "execution_count": null,
   "id": "0fa8cd5a",
   "metadata": {},
   "outputs": [],
   "source": [
    "# Load the included directed adjacency matrix sample\n",
    "directed_adj_mat = pd.read_excel('directed_sample.xlsx')\n",
    "\n",
    "# Comvert the panda dataframe into numpy array\n",
    "directed_adj_mat = np.array(directed_adj_mat)\n",
    "\n",
    "# Set following edges to zero\n",
    "# vertex 0 → vertex 1\n",
    "# vertex 1 → vertex 2\n",
    "\n",
    "directed_adj_mat[0, 1] = 0\n",
    "directed_adj_mat[1, 2] = 0"
   ]
  },
  {
   "cell_type": "code",
   "execution_count": null,
   "id": "a4da8c6e",
   "metadata": {},
   "outputs": [],
   "source": [
    "# Convert numpy array into directed graph networkX object\n",
    "directed_graph_sample = nx.from_numpy_array(directed_adj_mat, create_using=nx.DiGraph())\n",
    "\n",
    "# Obtain positions of vertex according to circular graph layout\n",
    "pos=nx.circular_layout(directed_graph_sample)\n",
    "\n",
    "# Use nx.draw_networkx() to plot the graph\n",
    "nx.draw_networkx(directed_graph_sample,pos,with_labels = True, node_size = 750, node_color='grey')\n",
    "\n",
    "# Use nx.get_edge_attributes() to obtain the edge weights according to adjacency matrix\n",
    "labels = nx.get_edge_attributes(directed_graph_sample,'weight')\n",
    "\n",
    "# Use nx.draw_networkx_edge_labels() to label the edges with the weights\n",
    "nx.draw_networkx_edge_labels(directed_graph_sample,pos,edge_labels=labels)\n",
    "\n",
    "plt.axis('off')\n",
    "plt.show()"
   ]
  },
  {
   "cell_type": "markdown",
   "id": "c30da2b4",
   "metadata": {},
   "source": [
    "### 3.8 - Adding graph edges"
   ]
  },
  {
   "cell_type": "code",
   "execution_count": null,
   "id": "0eca9de5",
   "metadata": {},
   "outputs": [],
   "source": [
    "# Load the included directed adjacency matrix sample\n",
    "directed_adj_mat = pd.read_excel('directed_sample.xlsx')\n",
    "\n",
    "# Comvert the panda dataframe into numpy array\n",
    "directed_adj_mat = np.array(directed_adj_mat)\n",
    "\n",
    "# Add a new edge with weight = 4\n",
    "# vertex 2 → vertex 3\n",
    "\n",
    "directed_adj_mat[2, 3] = 4"
   ]
  },
  {
   "cell_type": "code",
   "execution_count": null,
   "id": "e0e4490e",
   "metadata": {},
   "outputs": [],
   "source": [
    "# Convert numpy array into directed graph networkX object\n",
    "directed_graph_sample = nx.from_numpy_array(directed_adj_mat, create_using=nx.DiGraph())\n",
    "\n",
    "# Obtain positions of vertex according to circular graph layout\n",
    "pos=nx.circular_layout(directed_graph_sample)\n",
    "\n",
    "# Use nx.draw_networkx() to plot the graph\n",
    "nx.draw_networkx(directed_graph_sample,pos,with_labels = True, node_size = 750, node_color='grey')\n",
    "\n",
    "# Use nx.get_edge_attributes() to obtain the edge weights according to adjacency matrix\n",
    "labels = nx.get_edge_attributes(directed_graph_sample,'weight')\n",
    "\n",
    "# Use nx.draw_networkx_edge_labels() to label the edges with the weights\n",
    "nx.draw_networkx_edge_labels(directed_graph_sample,pos,edge_labels=labels)\n",
    "\n",
    "plt.axis('off')\n",
    "plt.show()"
   ]
  },
  {
   "cell_type": "markdown",
   "id": "67db777e",
   "metadata": {},
   "source": [
    "## Part 4: Advanced Debugging"
   ]
  },
  {
   "cell_type": "code",
   "execution_count": null,
   "id": "785d766c",
   "metadata": {},
   "outputs": [],
   "source": [
    "# A toy function which divides 1 by the provided divisor\n",
    "\n",
    "def test_func(divisor):\n",
    "    \n",
    "    val = 1/divisor\n",
    "    \n",
    "    breakpoint() # Upon execution of the code, activates Python debugger console at this line\n",
    "    \n",
    "    return val"
   ]
  },
  {
   "cell_type": "code",
   "execution_count": null,
   "id": "ba0a4652",
   "metadata": {},
   "outputs": [],
   "source": [
    "# Play with the Python debugger console\n",
    "# Basic commands:\n",
    "# h: help\n",
    "# w: where\n",
    "# n: next\n",
    "# c: continue\n",
    "# p: print\n",
    "# l: list\n",
    "# q: quit\n",
    "\n",
    "test_func(2) "
   ]
  },
  {
   "cell_type": "code",
   "execution_count": null,
   "id": "975c5abd",
   "metadata": {},
   "outputs": [],
   "source": [
    "# Useful Youtube video for the basics of Python Debugger\n",
    "# https://www.youtube.com/watch?v=aZJnGOwzHtU"
   ]
  }
 ],
 "metadata": {
  "kernelspec": {
   "display_name": "Python 3",
   "language": "python",
   "name": "python3"
  },
  "language_info": {
   "codemirror_mode": {
    "name": "ipython",
    "version": 3
   },
   "file_extension": ".py",
   "mimetype": "text/x-python",
   "name": "python",
   "nbconvert_exporter": "python",
   "pygments_lexer": "ipython3",
   "version": "3.8.11"
  }
 },
 "nbformat": 4,
 "nbformat_minor": 5
}
