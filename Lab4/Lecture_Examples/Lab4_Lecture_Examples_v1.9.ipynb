{
 "cells": [
  {
   "cell_type": "markdown",
   "id": "c6af4c09",
   "metadata": {},
   "source": [
    "##### Author: Jimin Kim (jk55@uw.edu)\n",
    "##### Version 1.9.0"
   ]
  },
  {
   "cell_type": "markdown",
   "id": "59dc8287",
   "metadata": {},
   "source": [
    "# LAB4: \n",
    "# WORKING WITH REAL WORLD STRUCTURED DATA"
   ]
  },
  {
   "cell_type": "markdown",
   "id": "51765456",
   "metadata": {},
   "source": [
    "## Part 1: Data Formats"
   ]
  },
  {
   "cell_type": "markdown",
   "id": "cff77cd6",
   "metadata": {},
   "source": [
    "### 1.1 - LOADING CSV DATA WITH PANDAS: DIABETES DATA"
   ]
  },
  {
   "cell_type": "code",
   "execution_count": null,
   "id": "84dd313b",
   "metadata": {},
   "outputs": [],
   "source": [
    "import pandas as pd\n",
    "\n",
    "diabetes = pd.read_csv('diabetes.csv')\n",
    "\n",
    "# Preview first few rows with head()\n",
    "diabetes.head()"
   ]
  },
  {
   "cell_type": "code",
   "execution_count": null,
   "id": "e1bb914f",
   "metadata": {},
   "outputs": [],
   "source": [
    "print(diabetes.columns[0:5]) # Get the column names via using .columns directtive"
   ]
  },
  {
   "cell_type": "code",
   "execution_count": null,
   "id": "e8e40d4b",
   "metadata": {},
   "outputs": [],
   "source": [
    "for name in diabetes.columns: # You can access each column name (string) via iterating through .columns()\n",
    "    \n",
    "    print(name)"
   ]
  },
  {
   "cell_type": "code",
   "execution_count": null,
   "id": "15ae1c29",
   "metadata": {},
   "outputs": [],
   "source": [
    "type(diabetes) # Loaded csv file is a pandas DataFrame object"
   ]
  },
  {
   "cell_type": "code",
   "execution_count": null,
   "id": "e3d709f2",
   "metadata": {},
   "outputs": [],
   "source": [
    "diabetes_np = diabetes.to_numpy() # Convert to Numpy array with .to_numpy() \n",
    "print(diabetes_np.shape)          # Converted Numpy array has shape (768, 9)"
   ]
  },
  {
   "cell_type": "markdown",
   "id": "3248acf0",
   "metadata": {},
   "source": [
    "## Part 2: Data Structures in Python"
   ]
  },
  {
   "cell_type": "markdown",
   "id": "4694eae7",
   "metadata": {},
   "source": [
    "### 2.1 - DATA STRUCTURES: NUMPY ARRAYS []"
   ]
  },
  {
   "cell_type": "code",
   "execution_count": null,
   "id": "0da32b03",
   "metadata": {},
   "outputs": [],
   "source": [
    "import numpy as np"
   ]
  },
  {
   "cell_type": "code",
   "execution_count": null,
   "id": "2fd5725b",
   "metadata": {},
   "outputs": [],
   "source": [
    "# 1D\n",
    "\n",
    "array_1d = diabetes_np[:, 1] # Glucose column\n",
    "print(array_1d.shape)"
   ]
  },
  {
   "cell_type": "code",
   "execution_count": null,
   "id": "a4c21dfc",
   "metadata": {},
   "outputs": [],
   "source": [
    "# 2D\n",
    "\n",
    "array_2d = diabetes_np[:, 1:4] # Glucose column - skin thickness\n",
    "print(array_2d.shape)"
   ]
  },
  {
   "cell_type": "code",
   "execution_count": null,
   "id": "a2f20b41",
   "metadata": {},
   "outputs": [],
   "source": [
    "# 3D\n",
    "\n",
    "diabetes_np_first100 = diabetes_np[:100, :]           # First 100 rows (row 0 - row 100)\n",
    "diabetes_np_100_to_200 = diabetes_np[100:200, :]      # Row 100 - 200\n",
    "\n",
    "print(diabetes_np_first100.shape, diabetes_np_100_to_200.shape)  # Each sub-data is 2D array\n",
    "\n",
    "array_3d = np.stack([diabetes_np_first100, diabetes_np_100_to_200]) # Using np.stack() to combine 2D arrays -> 3D\n",
    "print(array_3d.shape)"
   ]
  },
  {
   "cell_type": "markdown",
   "id": "71702418",
   "metadata": {},
   "source": [
    "### 2.2 - DATA STRUCTURES: TUPLES ()"
   ]
  },
  {
   "cell_type": "code",
   "execution_count": null,
   "id": "ccc69d62",
   "metadata": {},
   "outputs": [],
   "source": [
    "tuple_1 = (1,2,3,4,5)            # Tuple with homogeneous data (i.e. items are of same data type)\n",
    "\n",
    "print(tuple_1)"
   ]
  },
  {
   "cell_type": "code",
   "execution_count": null,
   "id": "d695a4a8",
   "metadata": {},
   "outputs": [],
   "source": [
    "tuple_2 = (1,2,3, 'banana', 'apple', 'orange') # Tuple with heterogeneous data (i.e. items are of different data type)\n",
    "\n",
    "print(tuple_2)"
   ]
  },
  {
   "cell_type": "code",
   "execution_count": null,
   "id": "d66405bc",
   "metadata": {},
   "outputs": [],
   "source": [
    "# tuple vs list\n",
    "\n",
    "tuple_1 = (1,2,3,4,5)        \n",
    "list_1 = [1,2,3,4,5]"
   ]
  },
  {
   "cell_type": "code",
   "execution_count": null,
   "id": "55ff7f26",
   "metadata": {},
   "outputs": [],
   "source": [
    "# Changing first element of the list to 10\n",
    "\n",
    "list_1[0] = 10\n",
    "print(list_1)"
   ]
  },
  {
   "cell_type": "code",
   "execution_count": null,
   "id": "50f474af",
   "metadata": {},
   "outputs": [],
   "source": [
    "# Doing the same results in an error with tuple\n",
    "\n",
    "tuple_1[0] = 10"
   ]
  },
  {
   "cell_type": "markdown",
   "id": "de870dee",
   "metadata": {},
   "source": [
    "### 2.3 - DATA STRUCTURES: DICTIONARIES {}"
   ]
  },
  {
   "cell_type": "code",
   "execution_count": null,
   "id": "2e1a956a",
   "metadata": {},
   "outputs": [],
   "source": [
    "# Dictionary example\n",
    "# Data are stored in ‘keys’ – “Department”, “instructor” …\n",
    "# Each Key can store 'ANY' data types - String, integer, float, list, np.array etc...\n",
    "\n",
    "ece241_dict = {\n",
    "    \n",
    "    \"Department\": 'UW ECE',\n",
    "    \"Instructor\": 'Jimin Kim',\n",
    "    \"Number of students\": 100,\n",
    "    \"Number of students per lab\": np.array([20, 24, 24, 24, 8]),\n",
    "    \"Topics covered\": ['Python', 'Signal processing', 'Data Types']\n",
    "}"
   ]
  },
  {
   "cell_type": "code",
   "execution_count": null,
   "id": "5d6bb676",
   "metadata": {},
   "outputs": [],
   "source": [
    "ece241_dict.keys()  # Dict.keys() displays all the keys within the dictionary"
   ]
  },
  {
   "cell_type": "code",
   "execution_count": null,
   "id": "3e128495",
   "metadata": {},
   "outputs": [],
   "source": [
    "# Data are accessed via referring to keys\n",
    "\n",
    "print(ece241_dict['Department'])\n",
    "\n",
    "print(ece241_dict['Number of students per lab'])\n",
    "\n",
    "print(ece241_dict['Topics covered'])"
   ]
  },
  {
   "cell_type": "code",
   "execution_count": null,
   "id": "f83255b6",
   "metadata": {},
   "outputs": [],
   "source": [
    "# Adding a key to dictionary\n",
    "\n",
    "ece241_dict['Meeting times'] = ['M', 'T', 'W', 'Th', 'F'] # Adding a key which gives access to a python list of strings\n",
    "ece241_dict['Number of instructors per lab'] = np.array([1,1,2,2,2]) # Adding a key which gives access to a numpy array\n",
    "\n",
    "print(ece241_dict['Meeting times'])\n",
    "print(ece241_dict['Number of instructors per lab'])"
   ]
  },
  {
   "cell_type": "code",
   "execution_count": null,
   "id": "ee36e1f3",
   "metadata": {},
   "outputs": [],
   "source": [
    "# Deleting a key from dictionary\n",
    "\n",
    "del ece241_dict['Topics covered']\n",
    "\n",
    "print(ece241_dict.keys()) # The dictionary no longer includes 'Topics covered' anymore"
   ]
  },
  {
   "cell_type": "markdown",
   "id": "4226d194",
   "metadata": {},
   "source": [
    "## Part 3: Visualizing Data"
   ]
  },
  {
   "cell_type": "markdown",
   "id": "bc197086",
   "metadata": {},
   "source": [
    "### 3.1 - TIMESERIES PLOTS"
   ]
  },
  {
   "cell_type": "code",
   "execution_count": null,
   "id": "f636b438",
   "metadata": {},
   "outputs": [],
   "source": [
    "import matplotlib.pyplot as plt\n",
    "%matplotlib inline"
   ]
  },
  {
   "cell_type": "code",
   "execution_count": null,
   "id": "3ca8c405",
   "metadata": {},
   "outputs": [],
   "source": [
    "# Load TSLA.csv and GOOGL.csv stock data\n",
    "\n",
    "tesla = pd.read_csv('TSLA.csv')\n",
    "google = pd.read_csv('GOOGL.csv')\n",
    "\n",
    "tesla_np = tesla.to_numpy()\n",
    "google_np = google.to_numpy()"
   ]
  },
  {
   "cell_type": "code",
   "execution_count": null,
   "id": "daa3f98f",
   "metadata": {},
   "outputs": [],
   "source": [
    "fig = plt.figure(figsize=(23,5))\n",
    "\n",
    "# Repeating plt.plot() functions automatically overlay one plot to the other\n",
    "plt.plot(tesla_np[:len(tesla_np), 4], linewidth = 5, color = 'blue') \n",
    "plt.plot(google_np[:len(tesla_np), 4], linewidth = 5, color = 'red')\n",
    "plt.xticks(fontsize=20) # adjusts the size of x-axis ticks\n",
    "plt.yticks(fontsize=20) # adjusts the size of y-axis ticks\n",
    "plt.xlabel('Closing Price', fontsize = 25)\n",
    "plt.ylabel('Days', fontsize = 25)"
   ]
  },
  {
   "cell_type": "markdown",
   "id": "4afff321",
   "metadata": {},
   "source": [
    "### 3.2 - SCATTER PLOTS"
   ]
  },
  {
   "cell_type": "code",
   "execution_count": null,
   "id": "6bf0d965",
   "metadata": {},
   "outputs": [],
   "source": [
    "fig = plt.figure(figsize=(25,7))\n",
    "\n",
    "# plt.scatter takes 2 1D-arrays each of them corresponding to x-axis and y-axis data respectively\n",
    "    \n",
    "plt.subplot(1, 2, 1)    \n",
    "plt.scatter(diabetes_np[:, 1], diabetes_np[:, 5], color = 'black')\n",
    "plt.xticks(fontsize=20)\n",
    "plt.yticks(fontsize=20)\n",
    "plt.xlabel('Glucose', fontsize = 25)\n",
    "plt.ylabel('BMI', fontsize = 25)\n",
    "\n",
    "plt.subplot(1, 2, 2)\n",
    "plt.scatter(diabetes_np[:, 1], diabetes_np[:, 4], color = 'black')\n",
    "plt.xticks(fontsize=20)\n",
    "plt.yticks(fontsize=20)\n",
    "plt.xlabel('Glucose', fontsize = 25)\n",
    "plt.ylabel('Insulin', fontsize = 25)"
   ]
  },
  {
   "cell_type": "markdown",
   "id": "e8496240",
   "metadata": {},
   "source": [
    "### 3.3 - BAR GRAPHS"
   ]
  },
  {
   "cell_type": "code",
   "execution_count": null,
   "id": "557bbf79",
   "metadata": {},
   "outputs": [],
   "source": [
    "diabetes_pos_ind = diabetes_np[:, -1] == 1  # Extract rows index with diabetes and no diabetes using Boolean masks\n",
    "diabetes_neg_ind = diabetes_np[:, -1] == 0  # We use the same boolean mask technique from Lab 3 for image subsetting\n",
    "                                            # diabetes_np[:, -1] extracts the last column of diabetes data (i.e. outcomes)\n",
    "                                            # outcome = 1: diabetic, outcome = 0: non-diabetic\n",
    "                                            # diabetes_np[:, -1] == 1 is an equivalence statement which returns a 1D bool array \n",
    "                                            # If True - the row has outcome = 1, if False = the row has outcome = 0\n",
    "\n",
    "print(diabetes_pos_ind[:100])                "
   ]
  },
  {
   "cell_type": "code",
   "execution_count": null,
   "id": "8b593620",
   "metadata": {},
   "outputs": [],
   "source": [
    "# You can use this bool array to subset only diabetic and non-diabetic samples\n",
    "# Using the bool array in the left side of colon inside the indexing bracket \n",
    "# will extract only the rows of diabetes_np that corresponds to True \n",
    "# in diabetes_pos_ind (i.e. True if diabetic) or diabetes_neg_ind (True if non-diabetic)\n",
    "diabetes_np_pos = diabetes_np[diabetes_pos_ind, :]  \n",
    "diabetes_np_neg = diabetes_np[diabetes_neg_ind, :]"
   ]
  },
  {
   "cell_type": "code",
   "execution_count": null,
   "id": "c06e6b47",
   "metadata": {},
   "outputs": [],
   "source": [
    "# Construct x-label string list\n",
    "\n",
    "x_labels = ['Pregnancies', 'Glucose', 'BloodPressure', 'SkinThickness', 'Insulin', 'BMI', 'DPF', 'Age']\n",
    "\n",
    "fig = plt.figure(figsize=(20,10))\n",
    "\n",
    "# Plot bar graphs of averaged attributes for each dataset \n",
    "\n",
    "plt.subplot(1, 2, 1)\n",
    "\n",
    "plt.bar(x_labels, diabetes_np_pos.mean(axis = 0)[:-1], color = 'blue')\n",
    "plt.title('Diabetic', fontsize = 20)\n",
    "plt.xticks(fontsize=20, rotation = 90) # rotation takes degree values to rotate the x-ticks\n",
    "plt.yticks(fontsize=20)\n",
    "plt.ylim(0, 150)\n",
    "\n",
    "plt.subplot(1, 2, 2)\n",
    "\n",
    "plt.bar(x_labels, diabetes_np_neg.mean(axis = 0)[:-1], color = 'red')\n",
    "plt.title('Non-Diabetic', fontsize = 20)\n",
    "plt.xticks(fontsize=20, rotation = 90)\n",
    "plt.yticks(fontsize=20)\n",
    "plt.ylim(0, 150)"
   ]
  },
  {
   "cell_type": "markdown",
   "id": "f2263d8a",
   "metadata": {},
   "source": [
    "### 3.4 - COLORMAPS"
   ]
  },
  {
   "cell_type": "code",
   "execution_count": null,
   "id": "aa229297",
   "metadata": {},
   "outputs": [],
   "source": [
    "# Select the columns to visualize (columns 1,2,3,4)\n",
    "# Subset the rows and columns to visualize (row:1500th – 1600th days, columns: 1,2,3,4)\n",
    "\n",
    "tesla_2_visualize = tesla_np[1500:1600, [1,2,3,4]] \n",
    "\n",
    "# Apply transpose to dataset so that rows = attributes, columns = days\n",
    "\n",
    "tesla_2_visualize = tesla_2_visualize.T"
   ]
  },
  {
   "cell_type": "code",
   "execution_count": null,
   "id": "d8cec116",
   "metadata": {},
   "outputs": [],
   "source": [
    "fig = plt.figure(figsize=(30,5))\n",
    "\n",
    "# Convert the array type to ‘float’ to make sure the data is compatible with colormap function \n",
    "\n",
    "plt.pcolor(tesla_2_visualize.astype('float'), cmap = 'jet')\n",
    "plt.xlabel('Days', fontsize = 20)\n",
    "plt.ylabel('Open, High, Low, Close', fontsize = 20)\n",
    "plt.xticks(fontsize=20)\n",
    "plt.yticks(color='white') # Setting ticks to white color effectively hides the label\n",
    "plt.colorbar()"
   ]
  },
  {
   "cell_type": "markdown",
   "id": "4d250e83",
   "metadata": {},
   "source": [
    "### 3.5 - HISTOGRAMS"
   ]
  },
  {
   "cell_type": "code",
   "execution_count": null,
   "id": "ea56cfe6",
   "metadata": {},
   "outputs": [],
   "source": [
    "fig = plt.figure(figsize=(40,5))\n",
    "\n",
    "plt.subplot(1, 2, 1)\n",
    "\n",
    "plt.hist(diabetes_np_pos[:, 1], color = 'blue', bins = 50)\n",
    "plt.xticks(fontsize=30)\n",
    "plt.yticks(fontsize=30)\n",
    "plt.xlabel('Glucose', fontsize = 40)\n",
    "plt.ylabel('n', fontsize = 40)\n",
    "\n",
    "plt.subplot(1, 2, 2)\n",
    "\n",
    "plt.hist(diabetes_np_neg[:, 1], color = 'red', bins = 50)\n",
    "plt.xticks(fontsize=30)\n",
    "plt.yticks(fontsize=30)\n",
    "plt.xlabel('Glucose', fontsize = 40)\n",
    "plt.ylabel('n', fontsize = 40)"
   ]
  },
  {
   "cell_type": "markdown",
   "id": "ce3248eb",
   "metadata": {},
   "source": [
    "## Part 4: Processing and Analyzing Data"
   ]
  },
  {
   "cell_type": "markdown",
   "id": "2824da88",
   "metadata": {},
   "source": [
    "### 4.1 - BASIC MATH OPERATIONS: "
   ]
  },
  {
   "cell_type": "code",
   "execution_count": null,
   "id": "1848d0af",
   "metadata": {},
   "outputs": [],
   "source": [
    "# Test matrix\n",
    "\n",
    "array2d = np.vstack([np.arange(1, 6), np.arange(6, 11), np.arange(11, 16), np.arange(16, 21), np.arange(21, 26)])\n",
    "\n",
    "# SUMMATION ALONG AXIS\n",
    "\n",
    "print(array2d.sum(axis = 0))\n",
    "print(array2d.sum(axis = 1))"
   ]
  },
  {
   "cell_type": "code",
   "execution_count": null,
   "id": "ed639fce",
   "metadata": {},
   "outputs": [],
   "source": [
    "# AVERAGING ALONG AXIS\n",
    "\n",
    "print(array2d.mean(axis = 0))\n",
    "print(array2d.mean(axis = 1))"
   ]
  },
  {
   "cell_type": "code",
   "execution_count": null,
   "id": "38614406",
   "metadata": {},
   "outputs": [],
   "source": [
    "# MINIMUM ALONG AXIS\n",
    "\n",
    "print(array2d.min(axis = 0))\n",
    "print(array2d.min(axis = 1))"
   ]
  },
  {
   "cell_type": "code",
   "execution_count": null,
   "id": "313a05b9",
   "metadata": {},
   "outputs": [],
   "source": [
    "# MAXIMUM ALONG AXIS\n",
    "\n",
    "print(array2d.max(axis = 0))\n",
    "print(array2d.max(axis = 1))"
   ]
  },
  {
   "cell_type": "markdown",
   "id": "2b65fca0",
   "metadata": {},
   "source": [
    "### 4.2 - STATISTICAL ANALYSIS: CONFIDENCE INTERVALS"
   ]
  },
  {
   "cell_type": "code",
   "execution_count": null,
   "id": "99797116",
   "metadata": {},
   "outputs": [],
   "source": [
    "import scipy.stats as st                # Import scipy.stats to use pre-built statstical functions\n",
    "\n",
    "glucose_control = diabetes_np_neg[:, 1] # Extract glucose column from non-diabetic dataset\n",
    "\n",
    "# st.t.interval() computes lower and upper bound for provided confidence level\n",
    "# confidence - confidence level\n",
    "# df - degree of freedom (size of the data - 1)\n",
    "# loc - The mean value of the data\n",
    "# scale = standard error of the data\n",
    "CI_99_lower, CI_99_upper = st.t.interval(confidence=0.99, df=len(glucose_control)-1, \n",
    "                                      loc=np.mean(glucose_control), scale=st.sem(glucose_control))\n",
    "\n",
    "h = CI_99_upper - np.mean(glucose_control) # Confidence interval size"
   ]
  },
  {
   "cell_type": "code",
   "execution_count": null,
   "id": "7e96e881",
   "metadata": {},
   "outputs": [],
   "source": [
    "fig = plt.figure(figsize=(7,5))\n",
    "\n",
    "plt.bar(['Non-diabetic'], [109.98],                  # Define x and y-axis data for the bar\n",
    "        width = 0.5, color = 'black',                # Define visual property of the main bar\n",
    "        yerr = [h], ecolor = 'grey',                 # Define the confidence interval size and error bar color\n",
    "        error_kw=dict(lw=5, capsize=50, capthick=5)) # Define visual properties of the confidence interval\n",
    "plt.xlim(-1, 1)\n",
    "plt.xticks(fontsize=30)\n",
    "plt.yticks(fontsize=30)\n",
    "plt.ylabel('Glucose', fontsize = 20)"
   ]
  },
  {
   "cell_type": "code",
   "execution_count": null,
   "id": "36aa3c8e",
   "metadata": {},
   "outputs": [],
   "source": []
  }
 ],
 "metadata": {
  "kernelspec": {
   "display_name": "Python 3 (ipykernel)",
   "language": "python",
   "name": "python3"
  },
  "language_info": {
   "codemirror_mode": {
    "name": "ipython",
    "version": 3
   },
   "file_extension": ".py",
   "mimetype": "text/x-python",
   "name": "python",
   "nbconvert_exporter": "python",
   "pygments_lexer": "ipython3",
   "version": "3.11.4"
  }
 },
 "nbformat": 4,
 "nbformat_minor": 5
}
