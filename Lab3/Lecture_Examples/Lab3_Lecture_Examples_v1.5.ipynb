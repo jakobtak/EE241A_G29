{
 "cells": [
  {
   "cell_type": "markdown",
   "id": "6c098a62",
   "metadata": {},
   "source": [
    "##### Author: Jimin Kim (jk55@uw.edu)\n",
    "##### Version 1.5.0"
   ]
  },
  {
   "cell_type": "markdown",
   "id": "33e48e6e",
   "metadata": {},
   "source": [
    "# LAB3: \n",
    "# WORKING WITH IMAGE DATA"
   ]
  },
  {
   "cell_type": "markdown",
   "id": "23506e86",
   "metadata": {},
   "source": [
    "## Part 1: Image Formats"
   ]
  },
  {
   "cell_type": "markdown",
   "id": "1f935879",
   "metadata": {},
   "source": [
    "### 1.1 - Loading images in Python with matplotlib"
   ]
  },
  {
   "cell_type": "code",
   "execution_count": null,
   "id": "ea25e2a1",
   "metadata": {},
   "outputs": [],
   "source": [
    "import matplotlib.pyplot as plt\n",
    "import matplotlib.image as mpimg\n",
    "import numpy as np\n",
    "%matplotlib inline"
   ]
  },
  {
   "cell_type": "code",
   "execution_count": null,
   "id": "4bd1b90c",
   "metadata": {},
   "outputs": [],
   "source": [
    "img = mpimg.imread('TSR.jpg')"
   ]
  },
  {
   "cell_type": "code",
   "execution_count": null,
   "id": "62d4ce8a",
   "metadata": {},
   "outputs": [],
   "source": [
    "fig = plt.figure(figsize=(5, 5))\n",
    "\n",
    "plt.imshow(img)"
   ]
  },
  {
   "cell_type": "code",
   "execution_count": null,
   "id": "72604351",
   "metadata": {},
   "outputs": [],
   "source": [
    "type(img)"
   ]
  },
  {
   "cell_type": "markdown",
   "id": "c653153a",
   "metadata": {},
   "source": [
    "### 1.2 - Reading images as numpy arrays"
   ]
  },
  {
   "cell_type": "code",
   "execution_count": null,
   "id": "feaffd75",
   "metadata": {},
   "outputs": [],
   "source": [
    "print(img.shape)                                                # The color image is Height x Width x RGB layers"
   ]
  },
  {
   "cell_type": "code",
   "execution_count": null,
   "id": "f42c1b04",
   "metadata": {},
   "outputs": [],
   "source": [
    "img_red = img[:, :, 0]                                          # Take the Red layer from the image \n",
    "img_green = img[:, :, 1]                                        # Green layer from the image \n",
    "img_blue = img[:, :, 2]                                         # Blue layer from the image "
   ]
  },
  {
   "cell_type": "code",
   "execution_count": null,
   "id": "2f34b5f0",
   "metadata": {},
   "outputs": [],
   "source": [
    "print(img_red, img_red.shape)"
   ]
  },
  {
   "cell_type": "markdown",
   "id": "8a2d8e85",
   "metadata": {},
   "source": [
    "### 1.3 - Writing images with matplotlib"
   ]
  },
  {
   "cell_type": "code",
   "execution_count": null,
   "id": "788670e4",
   "metadata": {},
   "outputs": [],
   "source": [
    "img_redonly = np.zeros((1200, 1200, 3), dtype = 'int')          # Create empty 3D array with integer type\n",
    "\n",
    "img_redonly[:, :, 0] = img[:, :, 0]                             # populate the first channel with red channel"
   ]
  },
  {
   "cell_type": "code",
   "execution_count": null,
   "id": "7e7a7d0a",
   "metadata": {},
   "outputs": [],
   "source": [
    "fig = plt.figure(figsize=(5, 5))\n",
    "\n",
    "plt.imshow(img_redonly)\n",
    "\n",
    "plt.savefig('imgplot_redonly.png')                              # plt.savefig() saves the image"
   ]
  },
  {
   "cell_type": "markdown",
   "id": "5505d3c1",
   "metadata": {},
   "source": [
    "### 1.4 - Converting color image to grayscale"
   ]
  },
  {
   "cell_type": "code",
   "execution_count": null,
   "id": "66520060",
   "metadata": {},
   "outputs": [],
   "source": [
    "from skimage import color\n",
    "from skimage import io\n",
    "\n",
    "img_gray = color.rgb2gray(io.imread('TSR.jpg'))  # Uses normalized 8-bit color code"
   ]
  },
  {
   "cell_type": "code",
   "execution_count": null,
   "id": "f1df094f",
   "metadata": {},
   "outputs": [],
   "source": [
    "from PIL import Image                            # We will be using PIL in this template for RGB - grayscale conversion\n",
    "img_gray = Image.open('TSR.jpg').convert('L')    # Uses standard 8-bit color code (integer)\n",
    "img_gray = np.array(img_gray)                    # Convert to numpy array"
   ]
  },
  {
   "cell_type": "markdown",
   "id": "965644a0",
   "metadata": {},
   "source": [
    "## Part 2: Operations on image (Grayscale)"
   ]
  },
  {
   "cell_type": "markdown",
   "id": "96bcfbf9",
   "metadata": {},
   "source": [
    "### 2.1 - Converting 2D array into 1D array with np.ndarray.flatten()"
   ]
  },
  {
   "cell_type": "code",
   "execution_count": null,
   "id": "f5155ab8",
   "metadata": {},
   "outputs": [],
   "source": [
    "flattened_2D_arr = np.ndarray.flatten(img_gray) # Convert 2D array into 1D array\n",
    "\n",
    "print(flattened_2D_arr.shape)"
   ]
  },
  {
   "cell_type": "markdown",
   "id": "02766b8f",
   "metadata": {},
   "source": [
    "### 2.2 - Analyzing an image with pixel histogram"
   ]
  },
  {
   "cell_type": "code",
   "execution_count": null,
   "id": "e6988e31",
   "metadata": {},
   "outputs": [],
   "source": [
    "fig = plt.figure(figsize=(10, 5))\n",
    "\n",
    "plt.hist(flattened_2D_arr, bins = 100, color = 'black') # Draws histogram with configured bin size"
   ]
  },
  {
   "cell_type": "markdown",
   "id": "e4820926",
   "metadata": {},
   "source": [
    "### 2.3 - Manipulating image pixels with histogram: Boolean mask method"
   ]
  },
  {
   "cell_type": "code",
   "execution_count": null,
   "id": "b9b2ddc7",
   "metadata": {},
   "outputs": [],
   "source": [
    "img_gray_copy1 = img_gray.copy()            # Copy the image to a new variable to avoid operating on a same image\n",
    "img_gray_copy2 = img_gray.copy()\n",
    "\n",
    "img_gray_copy1[img_gray_copy1 < 50] = 0     # Apply boolean mask and assign new values the indicies that are True\n",
    "img_gray_copy2[img_gray_copy2 > 150] = 0"
   ]
  },
  {
   "cell_type": "code",
   "execution_count": null,
   "id": "fb928cbe",
   "metadata": {},
   "outputs": [],
   "source": [
    "fig = plt.figure(figsize=(5, 5))\n",
    "\n",
    "plt.imshow(img_gray_copy1, cmap = 'gray', vmin = 0, vmax = 255) # Set vmin = 0, vmax = 255 to to correctly normalize the image"
   ]
  },
  {
   "cell_type": "code",
   "execution_count": null,
   "id": "451d026e",
   "metadata": {},
   "outputs": [],
   "source": [
    "fig = plt.figure(figsize=(5, 5))\n",
    "\n",
    "plt.imshow(img_gray_copy2, cmap = 'gray', vmin = 0, vmax = 255)"
   ]
  },
  {
   "cell_type": "markdown",
   "id": "504c3a84",
   "metadata": {},
   "source": [
    "### 2.4 - Image flipping with numpy flip functions"
   ]
  },
  {
   "cell_type": "code",
   "execution_count": null,
   "id": "70154aa5",
   "metadata": {},
   "outputs": [],
   "source": [
    "img_gray_lr_flipped = np.fliplr(img_gray)    # left, right flip\n",
    "img_gray_ud_flipped = np.flipud(img_gray)    # up, down flip"
   ]
  },
  {
   "cell_type": "code",
   "execution_count": null,
   "id": "6792e0c4",
   "metadata": {},
   "outputs": [],
   "source": [
    "fig = plt.figure(figsize=(5, 5))\n",
    "\n",
    "plt.imshow(img_gray_lr_flipped, cmap = 'gray')"
   ]
  },
  {
   "cell_type": "code",
   "execution_count": null,
   "id": "34974acf",
   "metadata": {},
   "outputs": [],
   "source": [
    "fig = plt.figure(figsize=(5, 5))\n",
    "\n",
    "plt.imshow(img_gray_ud_flipped, cmap = 'gray')"
   ]
  },
  {
   "cell_type": "markdown",
   "id": "f462b563",
   "metadata": {},
   "source": [
    "### 2.5 - Image downsampling (pick-one method)"
   ]
  },
  {
   "cell_type": "code",
   "execution_count": null,
   "id": "d4d7c285",
   "metadata": {},
   "outputs": [],
   "source": [
    "img_gray_downsampled_2 = img_gray[::2, ::2]       # Downsample rate = x2\n",
    "img_gray_downsampled_4 = img_gray[::4, ::4]       # Downsample rate = x4"
   ]
  },
  {
   "cell_type": "code",
   "execution_count": null,
   "id": "331ba6bc",
   "metadata": {},
   "outputs": [],
   "source": [
    "fig = plt.figure(figsize=(5, 5))\n",
    "\n",
    "plt.imshow(img_gray_downsampled_2, cmap = 'gray')"
   ]
  },
  {
   "cell_type": "code",
   "execution_count": null,
   "id": "86cb00d1",
   "metadata": {},
   "outputs": [],
   "source": [
    "fig = plt.figure(figsize=(5, 5))\n",
    "\n",
    "plt.imshow(img_gray_downsampled_4, cmap = 'gray')"
   ]
  },
  {
   "cell_type": "markdown",
   "id": "38d591b5",
   "metadata": {},
   "source": [
    "### 2.6 - Image blending"
   ]
  },
  {
   "cell_type": "code",
   "execution_count": null,
   "id": "33a7bcff",
   "metadata": {},
   "outputs": [],
   "source": [
    "img_gray2 = Image.open('currents.jpg').convert('L') # Load a second sample grayscale image\n",
    "img_gray2 = np.array(img_gray2)                     # Convert to numpy array    "
   ]
  },
  {
   "cell_type": "code",
   "execution_count": null,
   "id": "c20b74ef",
   "metadata": {},
   "outputs": [],
   "source": [
    "image_gray1_normalized = img_gray * 0.5             # assign equal weights to each image pixels\n",
    "image_gray2_normalized = img_gray2 * 0.5\n",
    "    \n",
    "blended_image = image_gray1_normalized + image_gray2_normalized"
   ]
  },
  {
   "cell_type": "code",
   "execution_count": null,
   "id": "26b35628",
   "metadata": {},
   "outputs": [],
   "source": [
    "fig = plt.figure(figsize=(5, 5))\n",
    "\n",
    "plt.imshow(blended_image, cmap = 'gray')"
   ]
  },
  {
   "cell_type": "markdown",
   "id": "4d2b301e",
   "metadata": {},
   "source": [
    "## Part 3: Operations on image (Color)"
   ]
  },
  {
   "cell_type": "markdown",
   "id": "4bb69f17",
   "metadata": {},
   "source": [
    "### 3.1 - Working with 3D arrays: Indexing"
   ]
  },
  {
   "cell_type": "code",
   "execution_count": null,
   "id": "aad63449",
   "metadata": {},
   "outputs": [],
   "source": [
    "# Sample 3D array\n",
    "sample_3d_array = np.stack([np.reshape(np.arange(25), (5,5)), np.reshape(np.arange(25) * 2, (5,5)), \n",
    "                             np.reshape(np.arange(25) * 3, (5,5))], axis = 2)     \n",
    "\n",
    "print(sample_3d_array[:, :, 0]) # First layer of axis 2\n",
    "print(sample_3d_array[:, :, 1]) # Second layer of axis 2\n",
    "print(sample_3d_array[:, :, 2]) # Third layer of axis 2"
   ]
  },
  {
   "cell_type": "code",
   "execution_count": null,
   "id": "013354f6",
   "metadata": {},
   "outputs": [],
   "source": [
    "print(sample_3d_array[:3,:3, 1], sample_3d_array[:3,:3, 1].shape)"
   ]
  },
  {
   "cell_type": "code",
   "execution_count": null,
   "id": "892170ad",
   "metadata": {},
   "outputs": [],
   "source": [
    "print(sample_3d_array[:3,:3,:2], sample_3d_array[:3,:3,:2].shape)"
   ]
  },
  {
   "cell_type": "code",
   "execution_count": null,
   "id": "837a33b3",
   "metadata": {},
   "outputs": [],
   "source": [
    "print(sample_3d_array[:3,:3,:], sample_3d_array[:3,:3,:].shape)"
   ]
  },
  {
   "cell_type": "code",
   "execution_count": null,
   "id": "d32fbad1",
   "metadata": {},
   "outputs": [],
   "source": [
    "print(sample_3d_array[2,2,:], sample_3d_array[2,2,:].shape)"
   ]
  },
  {
   "cell_type": "markdown",
   "id": "5d8f6618",
   "metadata": {},
   "source": [
    "### 3.2 - Constructing 3D array from 2D arrays"
   ]
  },
  {
   "cell_type": "code",
   "execution_count": null,
   "id": "b92074ea",
   "metadata": {},
   "outputs": [],
   "source": [
    "arr1 = np.zeros((5,5))     # 5 x 5 zeros\n",
    "arr2 = np.ones((5,5))      # 5 x 5 ones\n",
    "arr3 = np.ones((5,5)) * 2  # 5 x 5 twos\n",
    "\n",
    "arr_3d = np.stack([arr1, arr2, arr3], axis =2 )\n",
    "print(arr_3d.shape)"
   ]
  },
  {
   "cell_type": "code",
   "execution_count": null,
   "id": "6a40a322",
   "metadata": {},
   "outputs": [],
   "source": [
    "print(arr_3d)"
   ]
  },
  {
   "cell_type": "markdown",
   "id": "3a8a756d",
   "metadata": {},
   "source": [
    "### 3.3 - Expanding image operations on color: Image flipping"
   ]
  },
  {
   "cell_type": "code",
   "execution_count": null,
   "id": "c67dece6",
   "metadata": {},
   "outputs": [],
   "source": [
    "# Extract each color channel\n",
    "\n",
    "img_red = img[:, :, 0]        \n",
    "img_green = img[:, :, 1]\n",
    "img_blue = img[:, :, 2]"
   ]
  },
  {
   "cell_type": "code",
   "execution_count": null,
   "id": "28b0b466",
   "metadata": {},
   "outputs": [],
   "source": [
    "# Apply flip to each color channel\n",
    "\n",
    "img_red_flipped_lr = np.fliplr(img_red)          \n",
    "img_green_flipped_lr = np.fliplr(img_green)\n",
    "img_blue_flipped_lr = np.fliplr(img_blue)"
   ]
  },
  {
   "cell_type": "code",
   "execution_count": null,
   "id": "7561e719",
   "metadata": {},
   "outputs": [],
   "source": [
    "# Flipping all channels\n",
    "# Use np.stack with axis = 2 parameter to combine the color channels to a RGB image\n",
    "img_flipped_lr = np.stack([img_red_flipped_lr, img_green_flipped_lr, img_blue_flipped_lr], axis = 2)\n",
    "\n",
    "# Flipping only subset of channels\n",
    "img_flipped_lr_partial = np.stack([img_red, img_green_flipped_lr, img_blue], axis = 2)"
   ]
  },
  {
   "cell_type": "code",
   "execution_count": null,
   "id": "4f74558f",
   "metadata": {},
   "outputs": [],
   "source": [
    "fig = plt.figure(figsize=(5, 5))\n",
    "\n",
    "plt.imshow(img_flipped_lr)"
   ]
  },
  {
   "cell_type": "code",
   "execution_count": null,
   "id": "54cb9e3a",
   "metadata": {},
   "outputs": [],
   "source": [
    "fig = plt.figure(figsize=(5, 5))\n",
    "\n",
    "plt.imshow(img_flipped_lr_partial)"
   ]
  },
  {
   "cell_type": "markdown",
   "id": "23cb7e31",
   "metadata": {},
   "source": [
    "### 3.4 - Expanding image operations on color: Image Downsampling"
   ]
  },
  {
   "cell_type": "code",
   "execution_count": null,
   "id": "de23836e",
   "metadata": {},
   "outputs": [],
   "source": [
    "# Apply downsampling to all color channels\n",
    "img_red_downsampled = img_red[::10, ::10]\n",
    "img_green_downsampled = img_green[::10, ::10]\n",
    "img_blue_downsampled = img_blue[::10, ::10]"
   ]
  },
  {
   "cell_type": "code",
   "execution_count": null,
   "id": "1850e903",
   "metadata": {},
   "outputs": [],
   "source": [
    "img_downsampled = np.stack([img_red_downsampled, img_green_downsampled, img_blue_downsampled], axis = 2)"
   ]
  },
  {
   "cell_type": "code",
   "execution_count": null,
   "id": "d1a70ff3",
   "metadata": {},
   "outputs": [],
   "source": [
    "fig = plt.figure(figsize=(5, 5))\n",
    "\n",
    "plt.imshow(img_downsampled)"
   ]
  },
  {
   "cell_type": "markdown",
   "id": "7b394118",
   "metadata": {},
   "source": [
    "### 3.5 - Expanding image operations on color: Image Blending"
   ]
  },
  {
   "cell_type": "code",
   "execution_count": null,
   "id": "57125a3a",
   "metadata": {},
   "outputs": [],
   "source": [
    "img1 = mpimg.imread('TSR.jpg')\n",
    "img1 = img1.copy()\n",
    "\n",
    "img2 = mpimg.imread('currents.jpg')\n",
    "img2 = img2.copy()"
   ]
  },
  {
   "cell_type": "code",
   "execution_count": null,
   "id": "1f9a722e",
   "metadata": {},
   "outputs": [],
   "source": [
    "# Extract color channels from both images\n",
    "img1_red, img2_red = img1[:, :, 0], img2[:, :, 0]\n",
    "img1_green, img2_green = img1[:, :, 1], img2[:, :, 1]\n",
    "img1_blue, img2_blue = img1[:, :, 2], img2[:, :, 2]"
   ]
  },
  {
   "cell_type": "code",
   "execution_count": null,
   "id": "038d1842",
   "metadata": {},
   "outputs": [],
   "source": [
    "# Blend each channel\n",
    "blended_img_red = 0.5 * img1_red + 0.5 * img2_red\n",
    "blended_img_green = 0.5 * img1_green + 0.5 * img2_green\n",
    "blended_img_blue = 0.5 * img1_blue + 0.5 * img2_blue"
   ]
  },
  {
   "cell_type": "code",
   "execution_count": null,
   "id": "e40f98e9",
   "metadata": {},
   "outputs": [],
   "source": [
    "# Combine blended channel into a single 3D array\n",
    "blended_img = np.stack([blended_img_red, blended_img_green, blended_img_blue], axis = 2)\n",
    "blended_img = blended_img.astype('int')     # This command ensures all the pixels are in integer form \n",
    "                                            # as required by standard 8-bit color code"
   ]
  },
  {
   "cell_type": "code",
   "execution_count": null,
   "id": "fcd37d7f",
   "metadata": {},
   "outputs": [],
   "source": [
    "fig = plt.figure(figsize=(5, 5))\n",
    "\n",
    "plt.imshow(blended_img)"
   ]
  },
  {
   "cell_type": "code",
   "execution_count": null,
   "id": "e54025b1",
   "metadata": {},
   "outputs": [],
   "source": []
  }
 ],
 "metadata": {
  "kernelspec": {
   "display_name": "Python 3",
   "language": "python",
   "name": "python3"
  },
  "language_info": {
   "codemirror_mode": {
    "name": "ipython",
    "version": 3
   },
   "file_extension": ".py",
   "mimetype": "text/x-python",
   "name": "python",
   "nbconvert_exporter": "python",
   "pygments_lexer": "ipython3",
   "version": "3.8.11"
  }
 },
 "nbformat": 4,
 "nbformat_minor": 5
}
